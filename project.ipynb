{
 "cells": [
  {
   "cell_type": "code",
   "execution_count": 4,
   "metadata": {},
   "outputs": [],
   "source": [
    "import pandas as pd\n",
    "import numpy as np\n",
    "import sklearn\n",
    "from apos import appos\n",
    "import string as st\n",
    "import re\n",
    "from nltk.corpus import stopwords \n",
    "import nltk\n",
    "from nltk.tokenize import word_tokenize\n",
    "from nltk.corpus import wordnet\n",
    "from sklearn import naive_bayes\n",
    "from sklearn.ensemble import RandomForestClassifier"
   ]
  },
  {
   "cell_type": "code",
   "execution_count": 5,
   "metadata": {},
   "outputs": [],
   "source": [
    "a_file = open(\"english\", \"r\")\n",
    "lll= []\n",
    "for line in a_file:\n",
    "        stripped_line = line.strip()\n",
    "        lll.append(stripped_line)\n"
   ]
  },
  {
   "cell_type": "code",
   "execution_count": 6,
   "metadata": {},
   "outputs": [],
   "source": [
    "df=pd.read_csv(\"train.csv\")"
   ]
  },
  {
   "cell_type": "code",
   "execution_count": 7,
   "metadata": {},
   "outputs": [
    {
     "data": {
      "text/html": [
       "<div>\n",
       "<style scoped>\n",
       "    .dataframe tbody tr th:only-of-type {\n",
       "        vertical-align: middle;\n",
       "    }\n",
       "\n",
       "    .dataframe tbody tr th {\n",
       "        vertical-align: top;\n",
       "    }\n",
       "\n",
       "    .dataframe thead th {\n",
       "        text-align: right;\n",
       "    }\n",
       "</style>\n",
       "<table border=\"1\" class=\"dataframe\">\n",
       "  <thead>\n",
       "    <tr style=\"text-align: right;\">\n",
       "      <th></th>\n",
       "      <th>sentiment</th>\n",
       "      <th>tweet_text</th>\n",
       "    </tr>\n",
       "  </thead>\n",
       "  <tbody>\n",
       "    <tr>\n",
       "      <th>0</th>\n",
       "      <td>positive</td>\n",
       "      <td>Gas by my house hit $3.39!!!! I\\u2019m going t...</td>\n",
       "    </tr>\n",
       "    <tr>\n",
       "      <th>1</th>\n",
       "      <td>negative</td>\n",
       "      <td>Theo Walcott is still shit\\u002c watch Rafa an...</td>\n",
       "    </tr>\n",
       "    <tr>\n",
       "      <th>2</th>\n",
       "      <td>negative</td>\n",
       "      <td>its not that I\\u2019m a GSP fan\\u002c i just h...</td>\n",
       "    </tr>\n",
       "    <tr>\n",
       "      <th>3</th>\n",
       "      <td>negative</td>\n",
       "      <td>Iranian general says Israel\\u2019s Iron Dome c...</td>\n",
       "    </tr>\n",
       "    <tr>\n",
       "      <th>4</th>\n",
       "      <td>neutral</td>\n",
       "      <td>Tehran\\u002c Mon Amour: Obama Tried to Establi...</td>\n",
       "    </tr>\n",
       "  </tbody>\n",
       "</table>\n",
       "</div>"
      ],
      "text/plain": [
       "  sentiment                                         tweet_text\n",
       "0  positive  Gas by my house hit $3.39!!!! I\\u2019m going t...\n",
       "1  negative  Theo Walcott is still shit\\u002c watch Rafa an...\n",
       "2  negative  its not that I\\u2019m a GSP fan\\u002c i just h...\n",
       "3  negative  Iranian general says Israel\\u2019s Iron Dome c...\n",
       "4   neutral  Tehran\\u002c Mon Amour: Obama Tried to Establi..."
      ]
     },
     "execution_count": 7,
     "metadata": {},
     "output_type": "execute_result"
    }
   ],
   "source": [
    "df=df.drop(['tweet_id'],axis=1)\n",
    "df.head()"
   ]
  },
  {
   "cell_type": "code",
   "execution_count": 8,
   "metadata": {},
   "outputs": [],
   "source": [
    "def remove_slash(s):\n",
    "    return s.replace('\\\\u2019',' ').replace('\\\\u002',' ')\n",
    "def remove_punctuation(s):\n",
    "    list_punctuation = [st.punctuation]\n",
    "    for i in list_punctuation:\n",
    "        s = s.replace(i,'')        \n",
    "    return s\n",
    "def replace_appos(s):\n",
    "    for word in appos:\n",
    "        if word in s:\n",
    "            s.replace(word,appos[word])\n",
    "    return s\n",
    "def remove_tags(s):\n",
    "    while(s.find('@')!=-1):\n",
    "        if(s[s.find('@')+1:].find(' ')==-1):\n",
    "            s=s[:s.find('@')]\n",
    "        else:\n",
    "            \n",
    "            s=s[:s.find('@')]+s[s[s.find('@'):].find(' ')+s.find('@'):]\n",
    "    return s\n",
    "def mul_spaces(s):\n",
    "    return re.sub(' +', ' ',s)\n",
    "\n",
    "def stopwords_removal(data):\n",
    "    stop_words = lll\n",
    "    l=data.split(' ')\n",
    "    g=l\n",
    "    for i in l:\n",
    "        if i in stop_words:\n",
    "            g.remove(i)\n",
    "    return ' '.join(l)\n",
    "def remove_special_characters(text):\n",
    "    pattern = r'[^a-zA-z\\s]'\n",
    "    text = re.sub(pattern, '', text)\n",
    "    return text\n",
    "\n",
    "def lexicon_normalization(text):\n",
    "    from nltk.stem.wordnet import WordNetLemmatizer\n",
    "    lem = WordNetLemmatizer()\n",
    "    return(lem.lemmatize(text,'n'))\n",
    "\n",
    "def remove_links(s):\n",
    "    while(s.find('http')!=-1):\n",
    "        if(s[s.find('http')+1:].find(' ')==-1):\n",
    "            s=s[:s.find('http')]\n",
    "        else:\n",
    "            \n",
    "            s=s[:s.find('http')]+s[s[s.find('http'):].find(' ')+s.find('http'):]\n",
    "    return s\n"
   ]
  },
  {
   "cell_type": "code",
   "execution_count": 9,
   "metadata": {},
   "outputs": [],
   "source": [
    "df['tweet_text']=[i.lower() for i in df['tweet_text']]\n",
    "df['tweet_text']=[remove_tags(i) for i in df['tweet_text']]\n",
    "df['tweet_text']=[mul_spaces(i) for i in df['tweet_text']]\n",
    "df['tweet_text']=[remove_slash(i) for i in df['tweet_text']]\n",
    "df['tweet_text']=[replace_appos(i) for i in df['tweet_text']]\n",
    "df['tweet_text']=[remove_punctuation(i) for i in df['tweet_text']]\n",
    "df['tweet_text']=[stopwords_removal(i) for i in df['tweet_text']]\n",
    "df['tweet_text']=[remove_special_characters(i) for i in df['tweet_text']]\n",
    "df['tweet_text']=[lexicon_normalization(i) for i in df['tweet_text']]\n",
    "df['tweet_text']=[remove_links(i) for i in df['tweet_text']]"
   ]
  },
  {
   "cell_type": "code",
   "execution_count": 10,
   "metadata": {},
   "outputs": [
    {
     "data": {
      "text/html": [
       "<div>\n",
       "<style scoped>\n",
       "    .dataframe tbody tr th:only-of-type {\n",
       "        vertical-align: middle;\n",
       "    }\n",
       "\n",
       "    .dataframe tbody tr th {\n",
       "        vertical-align: top;\n",
       "    }\n",
       "\n",
       "    .dataframe thead th {\n",
       "        text-align: right;\n",
       "    }\n",
       "</style>\n",
       "<table border=\"1\" class=\"dataframe\">\n",
       "  <thead>\n",
       "    <tr style=\"text-align: right;\">\n",
       "      <th></th>\n",
       "      <th>sentiment</th>\n",
       "      <th>tweet_text</th>\n",
       "    </tr>\n",
       "  </thead>\n",
       "  <tbody>\n",
       "    <tr>\n",
       "      <th>0</th>\n",
       "      <td>positive</td>\n",
       "      <td>gas my house hit  m going chapel hill sat</td>\n",
       "    </tr>\n",
       "    <tr>\n",
       "      <th>1</th>\n",
       "      <td>negative</td>\n",
       "      <td>theo walcott still shit c watch rafa johnny de...</td>\n",
       "    </tr>\n",
       "    <tr>\n",
       "      <th>2</th>\n",
       "      <td>negative</td>\n",
       "      <td>not a gsp fan c i just hate nick diaz t wait f...</td>\n",
       "    </tr>\n",
       "    <tr>\n",
       "      <th>3</th>\n",
       "      <td>negative</td>\n",
       "      <td>iranian general says israel iron dome t deal t...</td>\n",
       "    </tr>\n",
       "    <tr>\n",
       "      <th>4</th>\n",
       "      <td>neutral</td>\n",
       "      <td>tehran c mon amour obama tried establish ties ...</td>\n",
       "    </tr>\n",
       "    <tr>\n",
       "      <th>5</th>\n",
       "      <td>neutral</td>\n",
       "      <td>sat this whole movie for harry ron christmas o...</td>\n",
       "    </tr>\n",
       "    <tr>\n",
       "      <th>6</th>\n",
       "      <td>positive</td>\n",
       "      <td>j davlar th main rivals team poland hopefully ...</td>\n",
       "    </tr>\n",
       "    <tr>\n",
       "      <th>7</th>\n",
       "      <td>negative</td>\n",
       "      <td>talking act  sat c deciding i want go college ...</td>\n",
       "    </tr>\n",
       "    <tr>\n",
       "      <th>8</th>\n",
       "      <td>neutral</td>\n",
       "      <td>is \\happy valentines day\\ trending s the th fe...</td>\n",
       "    </tr>\n",
       "    <tr>\n",
       "      <th>9</th>\n",
       "      <td>negative</td>\n",
       "      <td>may superbowl dallas c dallas t winning a supe...</td>\n",
       "    </tr>\n",
       "  </tbody>\n",
       "</table>\n",
       "</div>"
      ],
      "text/plain": [
       "  sentiment                                         tweet_text\n",
       "0  positive         gas my house hit  m going chapel hill sat \n",
       "1  negative  theo walcott still shit c watch rafa johnny de...\n",
       "2  negative  not a gsp fan c i just hate nick diaz t wait f...\n",
       "3  negative  iranian general says israel iron dome t deal t...\n",
       "4   neutral  tehran c mon amour obama tried establish ties ...\n",
       "5   neutral  sat this whole movie for harry ron christmas o...\n",
       "6  positive  j davlar th main rivals team poland hopefully ...\n",
       "7  negative  talking act  sat c deciding i want go college ...\n",
       "8   neutral  is \\happy valentines day\\ trending s the th fe...\n",
       "9  negative  may superbowl dallas c dallas t winning a supe..."
      ]
     },
     "execution_count": 10,
     "metadata": {},
     "output_type": "execute_result"
    }
   ],
   "source": [
    "df.head(10)"
   ]
  },
  {
   "cell_type": "code",
   "execution_count": 38,
   "metadata": {},
   "outputs": [],
   "source": [
    "from sklearn.pipeline import Pipeline\n",
    "from sklearn.naive_bayes import MultinomialNB\n",
    "from sklearn.feature_extraction.text import CountVectorizer, TfidfTransformer\n",
    "from sklearn.model_selection import train_test_split, GridSearchCV\n",
    "text_clf = Pipeline([('vect', CountVectorizer()),\n",
    "                     ('tfidf', TfidfTransformer()),\n",
    "                     ('clf', RandomForestClassifier())])\n",
    "tuned_parameters = {\n",
    "    'vect__ngram_range': [(1, 1), (1, 2), (2, 2)],\n",
    "    'tfidf__use_idf': (True, False),\n",
    "    'tfidf__norm': ('l1', 'l2'),\n",
    "    #'clf__alpha': [1, 1e-1, 1e-2]\n",
    "}"
   ]
  },
  {
   "cell_type": "code",
   "execution_count": 39,
   "metadata": {},
   "outputs": [],
   "source": [
    "x_train=df['tweet_text']\n",
    "y_train=df['sentiment']"
   ]
  },
  {
   "cell_type": "code",
   "execution_count": null,
   "metadata": {},
   "outputs": [],
   "source": [
    "from sklearn.metrics import classification_report\n",
    "clf = GridSearchCV(text_clf, tuned_parameters, cv=10, scoring=None)\n",
    "clf.fit(x_train, y_train)"
   ]
  },
  {
   "cell_type": "code",
   "execution_count": 23,
   "metadata": {},
   "outputs": [],
   "source": [
    "test=pd.read_csv(\"test.csv\")"
   ]
  },
  {
   "cell_type": "code",
   "execution_count": 24,
   "metadata": {},
   "outputs": [],
   "source": [
    "x_test=test['tweet_text']"
   ]
  },
  {
   "cell_type": "code",
   "execution_count": 30,
   "metadata": {},
   "outputs": [],
   "source": [
    "result_2=clf.predict(x_test)"
   ]
  },
  {
   "cell_type": "code",
   "execution_count": 41,
   "metadata": {},
   "outputs": [],
   "source": [
    "from gensim.models.doc2vec import Doc2Vec, TaggedDocument\n",
    "\n",
    "tagged_data = [TaggedDocument(words=_d.split(' '), tags=[str(i)]) for i, _d in enumerate(df['tweet_text'])]"
   ]
  },
  {
   "cell_type": "code",
   "execution_count": 42,
   "metadata": {},
   "outputs": [
    {
     "name": "stderr",
     "output_type": "stream",
     "text": [
      "/Library/Frameworks/Python.framework/Versions/3.8/lib/python3.8/site-packages/gensim/models/doc2vec.py:319: UserWarning: The parameter `size` is deprecated, will be removed in 4.0.0, use `vector_size` instead.\n",
      "  warnings.warn(\"The parameter `size` is deprecated, will be removed in 4.0.0, use `vector_size` instead.\")\n"
     ]
    },
    {
     "name": "stdout",
     "output_type": "stream",
     "text": [
      "iteration 0\n"
     ]
    },
    {
     "name": "stderr",
     "output_type": "stream",
     "text": [
      "<ipython-input-42-f2c2304d9f55>:17: DeprecationWarning: Call to deprecated `iter` (Attribute will be removed in 4.0.0, use self.epochs instead).\n",
      "  epochs=model.iter)\n"
     ]
    },
    {
     "name": "stdout",
     "output_type": "stream",
     "text": [
      "iteration 1\n",
      "iteration 2\n",
      "iteration 3\n",
      "iteration 4\n",
      "iteration 5\n",
      "iteration 6\n",
      "iteration 7\n",
      "iteration 8\n",
      "iteration 9\n",
      "iteration 10\n",
      "iteration 11\n",
      "iteration 12\n",
      "iteration 13\n",
      "iteration 14\n",
      "iteration 15\n",
      "iteration 16\n",
      "iteration 17\n",
      "iteration 18\n",
      "iteration 19\n",
      "iteration 20\n",
      "iteration 21\n",
      "iteration 22\n",
      "iteration 23\n",
      "iteration 24\n",
      "iteration 25\n",
      "iteration 26\n",
      "iteration 27\n",
      "iteration 28\n",
      "iteration 29\n",
      "iteration 30\n",
      "iteration 31\n",
      "iteration 32\n",
      "iteration 33\n",
      "iteration 34\n",
      "iteration 35\n",
      "iteration 36\n",
      "iteration 37\n",
      "iteration 38\n",
      "iteration 39\n",
      "iteration 40\n",
      "iteration 41\n",
      "iteration 42\n",
      "iteration 43\n",
      "iteration 44\n",
      "iteration 45\n",
      "iteration 46\n",
      "iteration 47\n",
      "iteration 48\n",
      "iteration 49\n",
      "iteration 50\n",
      "iteration 51\n",
      "iteration 52\n",
      "iteration 53\n",
      "iteration 54\n",
      "iteration 55\n",
      "iteration 56\n",
      "iteration 57\n",
      "iteration 58\n",
      "iteration 59\n",
      "iteration 60\n",
      "iteration 61\n",
      "iteration 62\n",
      "iteration 63\n",
      "iteration 64\n",
      "iteration 65\n",
      "iteration 66\n",
      "iteration 67\n",
      "iteration 68\n",
      "iteration 69\n",
      "iteration 70\n",
      "iteration 71\n",
      "iteration 72\n",
      "iteration 73\n",
      "iteration 74\n",
      "iteration 75\n",
      "iteration 76\n",
      "iteration 77\n",
      "iteration 78\n",
      "iteration 79\n",
      "iteration 80\n",
      "iteration 81\n",
      "iteration 82\n",
      "iteration 83\n",
      "iteration 84\n",
      "iteration 85\n",
      "iteration 86\n",
      "iteration 87\n",
      "iteration 88\n",
      "iteration 89\n",
      "iteration 90\n",
      "iteration 91\n",
      "iteration 92\n",
      "iteration 93\n",
      "iteration 94\n",
      "iteration 95\n",
      "iteration 96\n",
      "iteration 97\n",
      "iteration 98\n",
      "iteration 99\n",
      "Model Saved\n"
     ]
    }
   ],
   "source": [
    "max_epochs = 100\n",
    "vec_size = 20\n",
    "alpha = 0.025\n",
    "\n",
    "model = Doc2Vec(size=vec_size,\n",
    "                alpha=alpha, \n",
    "                min_alpha=0.00025,\n",
    "                min_count=1,\n",
    "                dm =1)\n",
    "  \n",
    "model.build_vocab(tagged_data)\n",
    "\n",
    "for epoch in range(max_epochs):\n",
    "    print('iteration {0}'.format(epoch))\n",
    "    model.train(tagged_data,\n",
    "                total_examples=model.corpus_count,\n",
    "                epochs=model.iter)\n",
    "    # decrease the learning rate\n",
    "    model.alpha -= 0.0002\n",
    "    # fix the learning rate, no decay\n",
    "    model.min_alpha = model.alpha\n",
    "\n",
    "model.save(\"d2v.model\")\n",
    "print(\"Model Saved\")"
   ]
  },
  {
   "cell_type": "code",
   "execution_count": 43,
   "metadata": {},
   "outputs": [
    {
     "data": {
      "text/plain": [
       "array([ 0.0093271 ,  0.04142823,  0.10919188,  0.19932699,  0.15781823,\n",
       "        0.14754312,  0.01670253,  0.09030306, -0.03418628,  0.07104065,\n",
       "        0.0113982 , -0.04633958,  0.11416581,  0.01215722,  0.03095124,\n",
       "       -0.00217682, -0.20353381, -0.04949334, -0.02850072, -0.06990891],\n",
       "      dtype=float32)"
      ]
     },
     "execution_count": 43,
     "metadata": {},
     "output_type": "execute_result"
    }
   ],
   "source": [
    "model= Doc2Vec.load(\"d2v.model\")\n",
    "#to find the vector of a document which is not in training data\n",
    "test_data = word_tokenize(\"shivank dadhwal is happy\".lower())\n",
    "if(model.infer_vector(test_data).all()>0):\n",
    "    v1=model.infer_vector(test_data)\n",
    "else:\n",
    "    v1=-model.infer_vector(test_data)\n",
    "v1"
   ]
  },
  {
   "cell_type": "code",
   "execution_count": 44,
   "metadata": {},
   "outputs": [],
   "source": [
    "vecs=[]\n",
    "for i in df['tweet_text']:\n",
    "    vecs.append(model.infer_vector(word_tokenize(i)))\n"
   ]
  },
  {
   "cell_type": "code",
   "execution_count": 45,
   "metadata": {},
   "outputs": [],
   "source": [
    "y=df['sentiment']\n",
    "x=vecs"
   ]
  },
  {
   "cell_type": "code",
   "execution_count": 53,
   "metadata": {},
   "outputs": [
    {
     "name": "stdout",
     "output_type": "stream",
     "text": [
      "1.0\n"
     ]
    }
   ],
   "source": [
    "#we will train a RandomForest classifier\n",
    "#rf=RandomForestClassifier()\n",
    "#rf.fit(x,y)\n",
    "from sklearn.ensemble import ExtraTreesClassifier\n",
    "clf = ExtraTreesClassifier(n_estimators=100, random_state=0)\n",
    "clf.fit(x,y)\n",
    "print(clf.score(x,y))"
   ]
  },
  {
   "cell_type": "code",
   "execution_count": 14,
   "metadata": {},
   "outputs": [],
   "source": [
    "test=pd.read_csv(\"test.csv\")"
   ]
  },
  {
   "cell_type": "code",
   "execution_count": 15,
   "metadata": {},
   "outputs": [
    {
     "data": {
      "text/html": [
       "<div>\n",
       "<style scoped>\n",
       "    .dataframe tbody tr th:only-of-type {\n",
       "        vertical-align: middle;\n",
       "    }\n",
       "\n",
       "    .dataframe tbody tr th {\n",
       "        vertical-align: top;\n",
       "    }\n",
       "\n",
       "    .dataframe thead th {\n",
       "        text-align: right;\n",
       "    }\n",
       "</style>\n",
       "<table border=\"1\" class=\"dataframe\">\n",
       "  <thead>\n",
       "    <tr style=\"text-align: right;\">\n",
       "      <th></th>\n",
       "      <th>Unnamed: 0</th>\n",
       "      <th>tweet_id</th>\n",
       "      <th>tweet_text</th>\n",
       "      <th>vecs</th>\n",
       "    </tr>\n",
       "  </thead>\n",
       "  <tbody>\n",
       "    <tr>\n",
       "      <th>0</th>\n",
       "      <td>0</td>\n",
       "      <td>264238274963451904</td>\n",
       "      <td>in atlantic city ventnor margate ocean city a...</td>\n",
       "      <td>[ 0.09703454  0.21580456 -0.17359503 -0.112266...</td>\n",
       "    </tr>\n",
       "    <tr>\n",
       "      <th>1</th>\n",
       "      <td>1</td>\n",
       "      <td>218775148495515649</td>\n",
       "      <td>musical awareness great big beautiful tomorrow...</td>\n",
       "      <td>[ 1.9649625e-01  2.6764107e-01 -3.3036727e-01 ...</td>\n",
       "    </tr>\n",
       "    <tr>\n",
       "      <th>2</th>\n",
       "      <td>2</td>\n",
       "      <td>258965201766998017</td>\n",
       "      <td>radio fm  fri oct  labour analyst shawn hattin...</td>\n",
       "      <td>[ 0.02543515 -0.04870443  0.10512904 -0.096038...</td>\n",
       "    </tr>\n",
       "    <tr>\n",
       "      <th>3</th>\n",
       "      <td>3</td>\n",
       "      <td>262926411352903682</td>\n",
       "      <td>kapan sih lo ngebuktiinjan ngomong doang susah...</td>\n",
       "      <td>[ 0.04412067 -0.05341641  0.01192275  0.015280...</td>\n",
       "    </tr>\n",
       "    <tr>\n",
       "      <th>4</th>\n",
       "      <td>4</td>\n",
       "      <td>171874368908050432</td>\n",
       "      <td>excuse connectivity this live stream baba amr ...</td>\n",
       "      <td>[ 0.17829536  0.11613123 -0.103672   -0.036830...</td>\n",
       "    </tr>\n",
       "  </tbody>\n",
       "</table>\n",
       "</div>"
      ],
      "text/plain": [
       "   Unnamed: 0            tweet_id  \\\n",
       "0           0  264238274963451904   \n",
       "1           1  218775148495515649   \n",
       "2           2  258965201766998017   \n",
       "3           3  262926411352903682   \n",
       "4           4  171874368908050432   \n",
       "\n",
       "                                          tweet_text  \\\n",
       "0   in atlantic city ventnor margate ocean city a...   \n",
       "1  musical awareness great big beautiful tomorrow...   \n",
       "2  radio fm  fri oct  labour analyst shawn hattin...   \n",
       "3  kapan sih lo ngebuktiinjan ngomong doang susah...   \n",
       "4  excuse connectivity this live stream baba amr ...   \n",
       "\n",
       "                                                vecs  \n",
       "0  [ 0.09703454  0.21580456 -0.17359503 -0.112266...  \n",
       "1  [ 1.9649625e-01  2.6764107e-01 -3.3036727e-01 ...  \n",
       "2  [ 0.02543515 -0.04870443  0.10512904 -0.096038...  \n",
       "3  [ 0.04412067 -0.05341641  0.01192275  0.015280...  \n",
       "4  [ 0.17829536  0.11613123 -0.103672   -0.036830...  "
      ]
     },
     "execution_count": 15,
     "metadata": {},
     "output_type": "execute_result"
    }
   ],
   "source": [
    "test.head()\n"
   ]
  },
  {
   "cell_type": "code",
   "execution_count": 16,
   "metadata": {},
   "outputs": [],
   "source": [
    "x_test=test['vecs']"
   ]
  },
  {
   "cell_type": "code",
   "execution_count": 17,
   "metadata": {},
   "outputs": [
    {
     "name": "stdout",
     "output_type": "stream",
     "text": [
      "0       [ 0.09703454  0.21580456 -0.17359503 -0.112266...\n",
      "1       [ 1.9649625e-01  2.6764107e-01 -3.3036727e-01 ...\n",
      "2       [ 0.02543515 -0.04870443  0.10512904 -0.096038...\n",
      "3       [ 0.04412067 -0.05341641  0.01192275  0.015280...\n",
      "4       [ 0.17829536  0.11613123 -0.103672   -0.036830...\n",
      "                              ...                        \n",
      "5393    [ 0.13831736 -0.08691731 -0.18543796 -0.279293...\n",
      "5394    [ 0.19730683  0.1614413  -0.16520138 -0.032636...\n",
      "5395    [ 0.05194712  0.18074235 -0.16142698 -0.004499...\n",
      "5396    [ 0.06033816  0.06531014 -0.02272399  0.037104...\n",
      "5397    [ 0.05514403  0.14945884 -0.03649994 -0.114281...\n",
      "Name: vecs, Length: 5398, dtype: object\n"
     ]
    }
   ],
   "source": [
    "print(x_test)"
   ]
  },
  {
   "cell_type": "code",
   "execution_count": 54,
   "metadata": {},
   "outputs": [],
   "source": [
    "pred_test=[]\n",
    "for i in range(len(x_test)):\n",
    "    prediction=clf.predict(x[i].reshape(1,-1))\n",
    "    pred_test.append(prediction)\n",
    "    \n",
    "\n",
    "def listToString(s):  \n",
    "    \n",
    "    # initialize an empty string \n",
    "    str1 = \" \" \n",
    "    \n",
    "    # return string   \n",
    "    return (str1.join(s)) "
   ]
  },
  {
   "cell_type": "code",
   "execution_count": 55,
   "metadata": {},
   "outputs": [
    {
     "name": "stdout",
     "output_type": "stream",
     "text": [
      "['positive' 'negative' 'negative' ... 'neutral' 'neutral' 'negative']\n"
     ]
    }
   ],
   "source": [
    "result=np.array([])\n",
    "for i in range(len(pred_test)):\n",
    "    result=np.append(result,listToString(pred_test[i]))\n",
    "print(result)"
   ]
  },
  {
   "cell_type": "code",
   "execution_count": 56,
   "metadata": {},
   "outputs": [],
   "source": [
    "result1={\n",
    "    'tweet_id': test['tweet_id'],\n",
    "    'sentiment':result\n",
    "}\n",
    "\n",
    "\n",
    "data=pd.DataFrame(result1)"
   ]
  },
  {
   "cell_type": "code",
   "execution_count": 57,
   "metadata": {},
   "outputs": [
    {
     "data": {
      "text/html": [
       "<div>\n",
       "<style scoped>\n",
       "    .dataframe tbody tr th:only-of-type {\n",
       "        vertical-align: middle;\n",
       "    }\n",
       "\n",
       "    .dataframe tbody tr th {\n",
       "        vertical-align: top;\n",
       "    }\n",
       "\n",
       "    .dataframe thead th {\n",
       "        text-align: right;\n",
       "    }\n",
       "</style>\n",
       "<table border=\"1\" class=\"dataframe\">\n",
       "  <thead>\n",
       "    <tr style=\"text-align: right;\">\n",
       "      <th></th>\n",
       "      <th>tweet_id</th>\n",
       "      <th>sentiment</th>\n",
       "    </tr>\n",
       "  </thead>\n",
       "  <tbody>\n",
       "    <tr>\n",
       "      <th>0</th>\n",
       "      <td>264238274963451904</td>\n",
       "      <td>positive</td>\n",
       "    </tr>\n",
       "    <tr>\n",
       "      <th>1</th>\n",
       "      <td>218775148495515649</td>\n",
       "      <td>negative</td>\n",
       "    </tr>\n",
       "    <tr>\n",
       "      <th>2</th>\n",
       "      <td>258965201766998017</td>\n",
       "      <td>negative</td>\n",
       "    </tr>\n",
       "    <tr>\n",
       "      <th>3</th>\n",
       "      <td>262926411352903682</td>\n",
       "      <td>negative</td>\n",
       "    </tr>\n",
       "    <tr>\n",
       "      <th>4</th>\n",
       "      <td>171874368908050432</td>\n",
       "      <td>neutral</td>\n",
       "    </tr>\n",
       "    <tr>\n",
       "      <th>5</th>\n",
       "      <td>256010056942903296</td>\n",
       "      <td>neutral</td>\n",
       "    </tr>\n",
       "    <tr>\n",
       "      <th>6</th>\n",
       "      <td>253809989599232000</td>\n",
       "      <td>positive</td>\n",
       "    </tr>\n",
       "    <tr>\n",
       "      <th>7</th>\n",
       "      <td>261776619146985472</td>\n",
       "      <td>negative</td>\n",
       "    </tr>\n",
       "    <tr>\n",
       "      <th>8</th>\n",
       "      <td>264143999374356481</td>\n",
       "      <td>neutral</td>\n",
       "    </tr>\n",
       "    <tr>\n",
       "      <th>9</th>\n",
       "      <td>223052929131757571</td>\n",
       "      <td>negative</td>\n",
       "    </tr>\n",
       "  </tbody>\n",
       "</table>\n",
       "</div>"
      ],
      "text/plain": [
       "             tweet_id sentiment\n",
       "0  264238274963451904  positive\n",
       "1  218775148495515649  negative\n",
       "2  258965201766998017  negative\n",
       "3  262926411352903682  negative\n",
       "4  171874368908050432   neutral\n",
       "5  256010056942903296   neutral\n",
       "6  253809989599232000  positive\n",
       "7  261776619146985472  negative\n",
       "8  264143999374356481   neutral\n",
       "9  223052929131757571  negative"
      ]
     },
     "execution_count": 57,
     "metadata": {},
     "output_type": "execute_result"
    }
   ],
   "source": [
    "data.head(10)"
   ]
  },
  {
   "cell_type": "code",
   "execution_count": 58,
   "metadata": {},
   "outputs": [],
   "source": [
    "data.to_csv('final.csv',index=False) "
   ]
  },
  {
   "cell_type": "code",
   "execution_count": null,
   "metadata": {},
   "outputs": [],
   "source": []
  }
 ],
 "metadata": {
  "kernelspec": {
   "display_name": "Python 3",
   "language": "python",
   "name": "python3"
  },
  "language_info": {
   "codemirror_mode": {
    "name": "ipython",
    "version": 3
   },
   "file_extension": ".py",
   "mimetype": "text/x-python",
   "name": "python",
   "nbconvert_exporter": "python",
   "pygments_lexer": "ipython3",
   "version": "3.8.3"
  }
 },
 "nbformat": 4,
 "nbformat_minor": 4
}
